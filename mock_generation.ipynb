{
 "cells": [
  {
   "cell_type": "markdown",
   "id": "e1d7924c-1125-4473-b688-04dd1a578fc5",
   "metadata": {},
   "source": [
    "# Importing packages that will be needed for this notebook"
   ]
  },
  {
   "cell_type": "code",
   "execution_count": 1,
   "id": "1831150e",
   "metadata": {},
   "outputs": [],
   "source": [
    "import agama\n",
    "import numpy\n",
    "import matplotlib.pyplot as plt\n",
    "from matplotlib import colors\n",
    "import subprocess\n",
    "import os\n",
    "from mgefit import *\n",
    "from mgefit.find_galaxy import find_galaxy\n",
    "from photutils.isophote import Ellipse\n",
    "from tqdm import trange, tqdm\n",
    "from astropy.io import fits\n",
    "from astropy.modeling import models\n",
    "from petrofit.modeling import fit_model\n",
    "from petrofit.modeling import print_model_params\n",
    "from petrofit.modeling import plot_fit"
   ]
  },
  {
   "cell_type": "markdown",
   "id": "3b12c562-2504-4fe5-b0d2-f23809bbf06d",
   "metadata": {},
   "source": [
    "### The 'run' variable determines if a batch of mocks is generated or not"
   ]
  },
  {
   "cell_type": "code",
   "execution_count": 2,
   "id": "e1fdb1aa",
   "metadata": {},
   "outputs": [],
   "source": [
    "#true if you want to run models, false if not\n",
    "run = True"
   ]
  },
  {
   "cell_type": "markdown",
   "id": "9cc2cfc0",
   "metadata": {},
   "source": [
    "## Functions"
   ]
  },
  {
   "cell_type": "markdown",
   "id": "6daf5993-3717-4fa7-a175-31ac2d2faa2b",
   "metadata": {},
   "source": [
    "### makeMock creates the model and outputs it as an N-body snapshot"
   ]
  },
  {
   "cell_type": "code",
   "execution_count": 3,
   "id": "b707dfe2",
   "metadata": {},
   "outputs": [],
   "source": [
    "def makeMock(scaleRad, gamm_a, M_sol = 10**7, M_bh = 10**6.0):\n",
    "\n",
    "    \n",
    "    ''' makes spheroid mock with fixed beta = 4, rCut, and alpha = 1\n",
    "    needs scaleRad and gamma \n",
    "    returns density, potential, and snapshot name'''\n",
    "    rCut = 10*scaleRad\n",
    "    snapshot_name = \"mock_\" + \"a=\" + str(numpy.format_float_positional(scaleRad, precision = 3)) + \"_gamma=\" + str(numpy.format_float_positional(gamm_a, precision = 3))\n",
    "    #snapshot_name = \"mock_test.txt\"\n",
    "    agama.setUnits(length=1, mass=1, velocity=1)  # 1 Msun, 1 kpc, 1 km/s\n",
    "    pot_gal = agama.Potential(type='spheroid', mass=M_sol, scaleradius=scaleRad, outercutoffradius=rCut, gamma=gamm_a, beta=4)\n",
    "    pot_bh  = agama.Potential(type='plummer',  mass=M_bh, scaleradius=1e-4)\n",
    "\n",
    "    # making the galaxy model\n",
    "    pot_tot = agama.Potential(pot_gal, pot_bh)\n",
    "    df = agama.DistributionFunction(type='quasispherical', density=pot_gal, potential=pot_tot, beta0=0.5)  # beta0 is the anisotropy coefficient\n",
    "    gm = agama.GalaxyModel(pot_tot, df)\n",
    "    agama.writeSnapshot(\"snapshots/\"+snapshot_name, gm.sample(1000000), 'text')\n",
    "\n",
    "    galaxydens  = agama.Density(pot_gal)\n",
    "\n",
    "    return galaxydens, pot_gal, snapshot_name"
   ]
  },
  {
   "cell_type": "markdown",
   "id": "161a5839-13ec-4fb7-9411-320e6261103d",
   "metadata": {},
   "source": [
    "### getRhalf computes the 2D and 3D half-light radius $r_{1/2}$ of the mock(s) "
   ]
  },
  {
   "cell_type": "code",
   "execution_count": 4,
   "id": "8abeadc0",
   "metadata": {},
   "outputs": [],
   "source": [
    "def getRhalf(density):\n",
    "\n",
    "    ''' computes 2 and 3 dimensional half light radius of a mock given its density model from makeMock'''\n",
    "    \n",
    "    xyz, mass = density.sample(100000)\n",
    "    r2d = numpy.sum(xyz[:,0:2]**2, axis=1)**0.5\n",
    "    order2 = numpy.argsort(r2d)\n",
    "    cumulmass2 = numpy.cumsum(mass[order2])\n",
    "    rhalf2d = r2d[order2[numpy.searchsorted(cumulmass2, 0.5*cumulmass2[-1])]]\n",
    "    r3d = numpy.sum(xyz**2, axis=1)**0.5\n",
    "    order3 = numpy.argsort(r3d)\n",
    "    cumulmass3 = numpy.cumsum(mass[order3])\n",
    "    rhalf3d = r3d[order3[numpy.searchsorted(cumulmass3, 0.5*cumulmass3[-1])]]\n",
    "    print(\"r_1/2 2d: \", rhalf2d, \"   r_1/2 3d: \", rhalf3d)\n",
    "    return numpy.format_float_positional(rhalf2d, precision = 4), numpy.format_float_positional(rhalf3d, precision = 4)"
   ]
  },
  {
   "cell_type": "markdown",
   "id": "a6e1c223-6036-4940-8b5a-972fc74f67fc",
   "metadata": {},
   "source": [
    "### findReff computes the 2D and 3D effective radius $r_e$ of the mock(s)"
   ]
  },
  {
   "cell_type": "code",
   "execution_count": 5,
   "id": "b8859947",
   "metadata": {},
   "outputs": [],
   "source": [
    "def findReff(density):\n",
    "    \n",
    "    '''finds 2d and 3d effective radius of mock snapshot'''\n",
    "    \n",
    "    xyz, mass = density.sample(100000)\n",
    "    r2d = numpy.sum(xyz[:,0:2]**2, axis=1)**(1/numpy.e)\n",
    "    order2 = numpy.argsort(r2d)\n",
    "    cumulmass2 = numpy.cumsum(mass[order2])\n",
    "    reff2d = r2d[order2[numpy.searchsorted(cumulmass2, 0.5*cumulmass2[-1])]]\n",
    "    r3d = numpy.sum(xyz**2, axis=1)**(1/numpy.e)\n",
    "    order3 = numpy.argsort(r3d)\n",
    "    cumulmass3 = numpy.cumsum(mass[order3])\n",
    "    reff3d = r3d[order3[numpy.searchsorted(cumulmass3, 0.5*cumulmass3[-1])]]\n",
    "    print(\"r_e 2d: \", reff2d, \"   r_e 3d: \", reff3d)\n",
    "    return numpy.format_float_positional(reff2d, precision = 4), numpy.format_float_positional(reff3d, precision = 4)\n",
    "    #return reff2d, reff3d\n"
   ]
  },
  {
   "cell_type": "markdown",
   "id": "de44a70a-f5ff-476d-9d09-0bb8ba6c92cb",
   "metadata": {},
   "source": [
    "### makeImg constructs a FITS image of the mock(s)"
   ]
  },
  {
   "cell_type": "code",
   "execution_count": 6,
   "id": "06f80fac",
   "metadata": {},
   "outputs": [],
   "source": [
    "def makeImg(pot_gal, snapshot_name):\n",
    "\n",
    "    '''makes a .fits image of mock snapshot made by makeMock.'''\n",
    "    # galaxy density\n",
    "    galaxydens  = agama.Density(pot_gal)\n",
    "\n",
    "\n",
    "    print('Reading input snapshot')\n",
    "    snapshot  = agama.readSnapshot(\"snapshots/\"+snapshot_name)\n",
    "    posvel    = numpy.array(snapshot[0])  # 2d Nx6 array of positions and velocities\n",
    "    mass      = numpy.array(snapshot[1])  # 1d array of N particle masses\n",
    "\n",
    "    # convert the N-body model (which was set up in N-body units with G=1) to observational units defined at the beginning of this script\n",
    "    distance  = 15420                              # [REQ] assumed distance [kpc]\n",
    "    arcsec2kpc= distance * numpy.pi / 648000        # conversion factor (number of kiloparsecs in one arcsecond)\n",
    "\n",
    "    rscale = 1/arcsec2kpc   # [REQ] 1 length unit of the N-body snapshot corresponds to this many length units of this script (arcseconds)\n",
    "    mscale = 1.0            # [REQ] 1 mass unit of the snapshot corresponds to this many mass units of this script (solar masses)\n",
    "    vscale = 1.0            # (agama.G * mscale / rscale)**0.5  # same for the N-body velocity unit => km/s\n",
    "    print('1 arcsec=%.3g kpc; vscale=%.3g; units=%s' % (arcsec2kpc, vscale, agama.getUnits()))\n",
    "    posvel[:, 0:3] *= rscale\n",
    "    posvel[:, 3:6] *= vscale\n",
    "    mass *= mscale\n",
    "    \n",
    "    nrot = 9  # [OPT] number of rotation angles\n",
    "    posvel_stack = []\n",
    "    print('Creating %d rotated copies of input snapshot' % nrot)\n",
    "    for ang in numpy.linspace(0, numpy.pi, nrot+1)[:-1]:\n",
    "        sina, cosa = numpy.sin(ang), numpy.cos(ang)\n",
    "        posvel_stack.append( numpy.column_stack((\n",
    "            posvel[:,0] * cosa + posvel[:,1] * sina,\n",
    "            posvel[:,1] * cosa - posvel[:,0] * sina,\n",
    "            posvel[:,2],\n",
    "            posvel[:,3] * cosa + posvel[:,4] * sina,\n",
    "            posvel[:,4] * cosa - posvel[:,3] * sina,\n",
    "            posvel[:,5] )) )\n",
    "        \n",
    "    posvel = numpy.vstack(posvel_stack)\n",
    "    mass   = numpy.tile(mass, nrot) / nrot\n",
    "\n",
    "    print(\"Total Mass \",sum(mass))\n",
    "\n",
    "    # project to the sky plan\n",
    "    incl = 45 * numpy.pi/180\n",
    "\n",
    "    X, Y  = numpy.dot(agama.makeRotationMatrix(alpha=0, beta=incl, gamma=0)[0:2], posvel[:,:3].T)[0:2]  # image-plane coords\n",
    "    #xmax  = numpy.percentile(numpy.abs(X), 99)\n",
    "    #ymax  = numpy.percentile(numpy.abs(Y), 99)\n",
    "    xmax  = 15    # it is the image field of view\n",
    "    ymax  = 15\n",
    "    pixel = max(\n",
    "        numpy.percentile( (X*X+Y*Y)**0.5, 100./len(posvel[:,0]) ),  # choose the pixel size to contain at least ~100 particles in the center,\n",
    "        max(xmax,ymax) / 100 )    # but don't make it too small, or else we run out of memory in constructing the histogram\n",
    "    gridx = numpy.linspace(-xmax, xmax, 580)\n",
    "    gridy = numpy.linspace(-ymax, ymax, 580)\n",
    "    hist  = numpy.histogram2d(X, Y, bins=(gridx, gridy), weights=mass)[0].T\n",
    "    scale=2*xmax/len(gridx)\n",
    "    print('pixel size=', 2*xmax/len(gridx) , 'arcsec')\n",
    "    print('1 arcsec=', arcsec2kpc, 'kpc')\n",
    "    print('1 kpc=', 1./arcsec2kpc, 'arcsec') \n",
    "\n",
    "    fig, ax1 = plt.subplots(figsize=(6, 6))\n",
    "    ax1 = plt.axes()\n",
    "\n",
    "    p=ax1.imshow(numpy.log10(hist), interpolation='nearest', aspect='auto', origin='lower',\n",
    "    extent=[gridx[0], gridx[-1], gridy[0], gridy[-1]],cmap='Greys_r')\n",
    "    #ax1.contour(xp, yp, np.log10(H1), colors='k', origin='image')\n",
    "\n",
    "    #ax1.text(-10, 12, '$ I_{2} $', fontsize=20, color='black')\n",
    "    ax1.set_xlabel(\"X [arcsec]\")\n",
    "    ax1.set_ylabel(\"Y [arcsec]\")\n",
    "    ax1.set_aspect(1)\n",
    "\n",
    "    # save the image\n",
    "    print(sum(sum(hist)))\n",
    "    hdu = fits.PrimaryHDU()\n",
    "    hdu.data = hist\n",
    "\n",
    "    hdu.writeto(\"mock_fits/\"+snapshot_name+\".fits\", overwrite=True)\n",
    "\n",
    "    print(hist.shape, gridx.shape, gridy.shape)\n",
    "\n",
    "    return gridx.shape, gridy.shape, scale, snapshot_name+\".fits\""
   ]
  },
  {
   "cell_type": "markdown",
   "id": "0c1b504a-2380-4f80-9adb-8b06fea75505",
   "metadata": {},
   "source": [
    "### saveParams saves a variety of parameters to a .txt file"
   ]
  },
  {
   "cell_type": "code",
   "execution_count": 7,
   "id": "12931164",
   "metadata": {},
   "outputs": [],
   "source": [
    "def saveParams(outputName, mockArr, gammArr, scaleArr, cutoffArr, reArr, r2Arr, sersArr, fitArr, snapArr, imgArr):\n",
    "\n",
    "    '''saves params for each mock'''\n",
    "    '''things to save: \n",
    "    gamma, scale rad, cutoffrad, galfit_file_name, '''\n",
    "    \n",
    "    '''\n",
    "    format:\n",
    "    mock name, gamma, scale radius, cutoff radius, r_eff (2d, 3d), r_1/2 (2d, 3d), \n",
    "    galfit file, mock snapshot name, fits name\n",
    "    '''\n",
    "    \n",
    "    head = 'mock  gamma  scale_radius  cutoff_rad  r_eff (2d, 3d)   r_1/2 (2d, 3d)  sers  r_e(fit)  snapshot_name  mock_img_name'\n",
    "\n",
    "    numpy.savetxt(outputName, numpy.transpose([mockArr, gammArr, scaleArr, cutoffArr, reArr, r2Arr, sersArr, fitArr, snapArr, imgArr]), fmt = \"%s %7.3f %7.3f %7.3f %s %s %s %s %s %s\", header = head)\n",
    "    \n",
    "    return"
   ]
  },
  {
   "cell_type": "markdown",
   "id": "d0ab6514-3c0e-4f17-bbaf-ae5418234dc3",
   "metadata": {},
   "source": [
    "### findSers determines the Sersic index of "
   ]
  },
  {
   "cell_type": "code",
   "execution_count": 8,
   "id": "1df69e33",
   "metadata": {},
   "outputs": [],
   "source": [
    "def findSers(img, plot = False):\n",
    "    \n",
    "    '''rHalf = r_eff in pix\n",
    "    img - data to fit\n",
    "    plot - will plot data/model/residual'''\n",
    "    \n",
    "    hdu = fits.open(img)\n",
    "    data = hdu[0].data\n",
    "    numpy.nan_to_num(data, copy=False, nan=0.1, posinf=0.1, neginf=0.1)\n",
    "    sersic = models.Sersic2D(1, 1, 1, 280, 280, bounds = {\"ellip\":(0., 1), \"theta\":(0.,2.)})\n",
    "    fitted_model, fit_info = fit_model(data, sersic)\n",
    "    print_model_params(fitted_model)\n",
    "    params = fitted_model.parameters\n",
    "    amp = params[0]\n",
    "    rEff = params[1]\n",
    "    n = params[2]\n",
    "    print(\"Sersic Index of Model: \", n)\n",
    "    #print(\"True r_eff [pix]: \", rHalf)\n",
    "    print(\"Fitted r_eff [pix]: \", rEff)\n",
    "    print(\"############################\")\n",
    "    \n",
    "    if plot:\n",
    "        vmax = numpy.std(data)\n",
    "        vmin = -vmax\n",
    "        plot_fit(fitted_model, data, vmax=vmax, vmin=vmin, figsize=[3*6, 6])\n",
    "        plt.show()\n",
    "    \n",
    "    return n, rEff "
   ]
  },
  {
   "cell_type": "code",
   "execution_count": 9,
   "id": "1e9db782",
   "metadata": {},
   "outputs": [],
   "source": [
    "def __run__(aGrid, gammaGrid, mockName, outputName, plot = True):\n",
    "\n",
    "    '''does everything\n",
    "    a grid - grid of scale rads\n",
    "    gamma grid - grid of inner power law slopes\n",
    "    baseName - base mock file name\n",
    "    outputname - name of output file with all params\n",
    "    '''\n",
    "    \n",
    "    mockNames = []\n",
    "    gammas =[]\n",
    "    scaleRads = []\n",
    "    cutoffRads = []\n",
    "    r_es = []\n",
    "    r_2s = []\n",
    "    sersInd = []\n",
    "    r_e_sersfit = []\n",
    "    snapshotNames = []\n",
    "    imageNames = []\n",
    "    \n",
    "    #make sure folders are made\n",
    "    folder_name_s = \"snapshots\"\n",
    "    if not os.path.exists(folder_name_s):\n",
    "        os.makedirs(folder_name_s)\n",
    "        print(f\"Folder '{folder_name_s}' folder created successfully!\")\n",
    "    else:\n",
    "        print(f\"Folder '{folder_name_s}' folder already exists! Continue working!\")\n",
    "        \n",
    "        \n",
    "    folder_name_f = \"mock_fits\"\n",
    "    if not os.path.exists(folder_name_f):\n",
    "        os.makedirs(folder_name_f)\n",
    "        print(f\"Folder '{folder_name_f}' folder created successfully!\")\n",
    "    else:\n",
    "        print(f\"Folder '{folder_name_f}' folder already exists! Continue working!\")\n",
    "    \n",
    "\n",
    "    mockN = 0\n",
    "    errCount = 0\n",
    "    #for a, g in tqdm(zip(aGrid, gammaGrid), total = len(aGrid)):\n",
    "    \n",
    "    #make mocks and save everything\n",
    "    for a in tqdm(aGrid):\n",
    "        for g in gammaGrid:\n",
    "            \n",
    "            #make mock\n",
    "            print(\"Making mock....\")\n",
    "            print(\"################\")\n",
    "            cutoffRad = 10*a\n",
    "            densityGal, potentialGal, snapshotName = makeMock(a, g)\n",
    "        \n",
    "            #find reff and r_1/2\n",
    "            print(\"Finding r_1/2 and r_eff.....\")\n",
    "            print(\"################\")\n",
    "            reff2d, reff3d = findReff(densityGal)\n",
    "\n",
    "            rhalf2d, rhalf3d = getRhalf(densityGal)\n",
    "\n",
    "            print(\"2d r_eff: \", reff2d, \" 3d r_eff \", reff3d)\n",
    "            print(\"2d r_1/2: \", rhalf2d, \" 3d r_1/2 \", rhalf3d)\n",
    "            print(\"gamma = \", g, \"a = \", a)\n",
    "\n",
    "            #make image with mge\n",
    "            print(\"Making image.....\")\n",
    "            print(\"################\")\n",
    "            xShape, yShape, scale, fitName = makeImg(potentialGal, snapshotName)\n",
    "            \n",
    "            \n",
    "            #find sers index and best fit rEff\n",
    "            print(\"Fitting 2D sersic.....\")\n",
    "            print(\"################\")\n",
    "            \n",
    "            try:\n",
    "                n, fitR = findSers(\"mock_fits/\"+fitName)\n",
    "            except:\n",
    "                print(\"Error with sersic fit...\")\n",
    "                n = \"err\"\n",
    "                fitR = \"err\"\n",
    "                errCount += 1\n",
    "            \n",
    "            #stuff to write\n",
    "            mockNames.append(mockName+\"_\"+str(mockN))\n",
    "            gammas.append(g)\n",
    "            scaleRads.append(a)\n",
    "            cutoffRads.append(cutoffRad)\n",
    "            r_es.append((reff2d, reff3d))\n",
    "            r_2s.append((rhalf2d, rhalf3d))\n",
    "            sersInd.append(n)\n",
    "            r_e_sersfit.append(fitR)\n",
    "            snapshotNames.append(snapshotName)\n",
    "            imageNames.append(fitName)\n",
    "        \n",
    "            mockN += 1\n",
    "            \n",
    "    #write everything\n",
    "    print(\"Num of fit errors:\", + errCount)\n",
    "    print(\"Writing output....\")\n",
    "    print(\"################\")\n",
    "    saveParams(outputName, mockNames, gammas, scaleRads, cutoffRads, r_es, r_2s,\n",
    "               sersInd, r_e_sersfit, snapshotNames, imageNames)\n",
    "    #print(\"Num of fit errors:\", + errCount)\n",
    "    #make plots AL- make later if needed\n",
    "    #if plot:\n",
    "    #    continue\n",
    "    \n",
    "    return mockNames, gammas, scaleRads, cutoffRads, r_es, r_2s, sersInd, r_e_sersfit, snapshotNames, imageNames"
   ]
  },
  {
   "cell_type": "code",
   "execution_count": null,
   "id": "994ad2c6",
   "metadata": {},
   "outputs": [],
   "source": []
  },
  {
   "cell_type": "markdown",
   "id": "0d6580ca",
   "metadata": {},
   "source": [
    "## Run everything"
   ]
  },
  {
   "cell_type": "code",
   "execution_count": 10,
   "id": "b537de7c",
   "metadata": {},
   "outputs": [
    {
     "name": "stdout",
     "output_type": "stream",
     "text": [
      "r_1/2 for UCD736: 0.024152154168424114 [kpc]\n"
     ]
    }
   ],
   "source": [
    "trueScale = 6.4614 #pix\n",
    "trueScale *= 0.05 #pix x arc/pix = arc\n",
    "trueScale *= 15420 * numpy.pi / 648000 #arc x kpc/arc = kpc\n",
    "print(\"r_1/2 for UCD736:\", trueScale, \"[kpc]\")"
   ]
  },
  {
   "cell_type": "code",
   "execution_count": 12,
   "id": "4fb43355",
   "metadata": {},
   "outputs": [],
   "source": [
    "gammaVals = numpy.arange(0.5, 1.75, 0.25)\n",
    "scaleVals = numpy.linspace(0.003, 0.03, 25)"
   ]
  },
  {
   "cell_type": "code",
   "execution_count": 13,
   "id": "ca055085",
   "metadata": {},
   "outputs": [
    {
     "name": "stdout",
     "output_type": "stream",
     "text": [
      "[0.5  0.75 1.   1.25 1.5 ]\n"
     ]
    }
   ],
   "source": [
    "print(gammaVals)"
   ]
  },
  {
   "cell_type": "code",
   "execution_count": null,
   "id": "172efa7e",
   "metadata": {
    "scrolled": true
   },
   "outputs": [],
   "source": [
    "if run:\n",
    "    mocks, gamms, scales, cutoffs, res, r2s, sers, refit, snaps, imgs = __run__(scaleVals, gammaVals, \"mock_NSC\", \"mock_params_NSC.txt\")"
   ]
  }
 ],
 "metadata": {
  "kernelspec": {
   "display_name": "Python 3 (ipykernel)",
   "language": "python",
   "name": "python3"
  },
  "language_info": {
   "codemirror_mode": {
    "name": "ipython",
    "version": 3
   },
   "file_extension": ".py",
   "mimetype": "text/x-python",
   "name": "python",
   "nbconvert_exporter": "python",
   "pygments_lexer": "ipython3",
   "version": "3.9.18"
  }
 },
 "nbformat": 4,
 "nbformat_minor": 5
}
